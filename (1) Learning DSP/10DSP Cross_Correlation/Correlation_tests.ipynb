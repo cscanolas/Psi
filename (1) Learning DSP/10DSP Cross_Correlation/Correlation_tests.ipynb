{
 "cells": [
  {
   "cell_type": "code",
   "execution_count": 18,
   "metadata": {},
   "outputs": [],
   "source": [
    "import numpy as np\n",
    "import scipy.signal"
   ]
  },
  {
   "cell_type": "code",
   "execution_count": 19,
   "metadata": {},
   "outputs": [],
   "source": [
    "x = np.array([1,3,-2,4])\n",
    "y = np.array([2,3,-1,3])\n",
    "z = np.array([2, -1, 4, -2])"
   ]
  },
  {
   "cell_type": "code",
   "execution_count": 20,
   "metadata": {},
   "outputs": [
    {
     "name": "stdout",
     "output_type": "stream",
     "text": [
      "[25]\n",
      "[-9]\n",
      "[187]\n"
     ]
    }
   ],
   "source": [
    "corr1 = np.correlate(x,y)\n",
    "corr2 = np.correlate(y,z)\n",
    "print(corr1)\n",
    "print(corr2)\n",
    "\n",
    "q = np.array([100, -1, 4, -2])\n",
    "corr3 = np.correlate(y,q)\n",
    "print(corr3)"
   ]
  },
  {
   "cell_type": "code",
   "execution_count": 22,
   "metadata": {},
   "outputs": [
    {
     "name": "stdout",
     "output_type": "stream",
     "text": [
      "[ 3  8 -6 25 -4  8  8]\n"
     ]
    }
   ],
   "source": [
    "corr1 = scipy.signal.correlate(x,y)\n",
    "print(corr1)"
   ]
  }
 ],
 "metadata": {
  "kernelspec": {
   "display_name": "Python 3",
   "language": "python",
   "name": "python3"
  },
  "language_info": {
   "codemirror_mode": {
    "name": "ipython",
    "version": 3
   },
   "file_extension": ".py",
   "mimetype": "text/x-python",
   "name": "python",
   "nbconvert_exporter": "python",
   "pygments_lexer": "ipython3",
   "version": "3.11.1"
  },
  "orig_nbformat": 4
 },
 "nbformat": 4,
 "nbformat_minor": 2
}
